{
 "cells": [
  {
   "cell_type": "code",
   "execution_count": 4,
   "metadata": {},
   "outputs": [],
   "source": [
    "# Constants\n",
    "RAW_DATA_DIR_PATH = 'G:\\\\My Drive\\\\AirPollutionML\\\\Raw_Data'\n",
    "RAW_DATA_FILES_PATH = 'G:\\\\My Drive\\\\AirPollutionML\\\\Raw_Data_Files'\n",
    "RAW_FILE_PATTERN = r\"(?:Copy of )?Raw_data_1Hr_(\\d{4})_\""
   ]
  },
  {
   "cell_type": "code",
   "execution_count": 2,
   "metadata": {},
   "outputs": [],
   "source": [
    "import os, re, shutil"
   ]
  },
  {
   "cell_type": "code",
   "execution_count": 5,
   "metadata": {},
   "outputs": [],
   "source": [
    "regions = [region for region in os.listdir(RAW_DATA_DIR_PATH) if os.path.isdir(os.path.join(RAW_DATA_DIR_PATH, region))]\n",
    "regions.remove('Bharatpur')"
   ]
  },
  {
   "cell_type": "code",
   "execution_count": 48,
   "metadata": {},
   "outputs": [
    {
     "name": "stdout",
     "output_type": "stream",
     "text": [
      "region:  Gurugram\n",
      "sub-region:  VikasSadan\n",
      "G:\\My Drive\\AirPollutionML\\Raw_Data_Files\\2023_Gurugram_VikasSadan.csv G:\\My Drive\\AirPollutionML\\Raw_Data_Files\\2022_Gurugram_VikasSadan.csv G:\\My Drive\\AirPollutionML\\Raw_Data_Files\\2021_Gurugram_VikasSadan.csv G:\\My Drive\\AirPollutionML\\Raw_Data_Files\\2020_Gurugram_VikasSadan.csv G:\\My Drive\\AirPollutionML\\Raw_Data_Files\\2019_Gurugram_VikasSadan.csv \n",
      "sub-region:  Sector51\n",
      "G:\\My Drive\\AirPollutionML\\Raw_Data_Files\\2019_Gurugram_Sector51.csv G:\\My Drive\\AirPollutionML\\Raw_Data_Files\\2020_Gurugram_Sector51.csv G:\\My Drive\\AirPollutionML\\Raw_Data_Files\\2021_Gurugram_Sector51.csv G:\\My Drive\\AirPollutionML\\Raw_Data_Files\\2022_Gurugram_Sector51.csv G:\\My Drive\\AirPollutionML\\Raw_Data_Files\\2023_Gurugram_Sector51.csv \n",
      "\n",
      "region:  Faridabad\n",
      "sub-region:  Sector30\n",
      "G:\\My Drive\\AirPollutionML\\Raw_Data_Files\\2023_Faridabad_Sector30.csv G:\\My Drive\\AirPollutionML\\Raw_Data_Files\\2022_Faridabad_Sector30.csv G:\\My Drive\\AirPollutionML\\Raw_Data_Files\\2021_Faridabad_Sector30.csv G:\\My Drive\\AirPollutionML\\Raw_Data_Files\\2020_Faridabad_Sector30.csv G:\\My Drive\\AirPollutionML\\Raw_Data_Files\\2019_Faridabad_Sector30.csv \n",
      "sub-region:  NewIndustrialTown\n",
      "G:\\My Drive\\AirPollutionML\\Raw_Data_Files\\2019_Faridabad_NewIndustrialTown.csv G:\\My Drive\\AirPollutionML\\Raw_Data_Files\\2020_Faridabad_NewIndustrialTown.csv G:\\My Drive\\AirPollutionML\\Raw_Data_Files\\2021_Faridabad_NewIndustrialTown.csv G:\\My Drive\\AirPollutionML\\Raw_Data_Files\\2022_Faridabad_NewIndustrialTown.csv G:\\My Drive\\AirPollutionML\\Raw_Data_Files\\2023_Faridabad_NewIndustrialTown.csv \n",
      "\n",
      "region:  Delhi\n",
      "sub-region:  SoniaVihar\n",
      "G:\\My Drive\\AirPollutionML\\Raw_Data_Files\\2023_Delhi_SoniaVihar.csv G:\\My Drive\\AirPollutionML\\Raw_Data_Files\\2022_Delhi_SoniaVihar.csv G:\\My Drive\\AirPollutionML\\Raw_Data_Files\\2021_Delhi_SoniaVihar.csv G:\\My Drive\\AirPollutionML\\Raw_Data_Files\\2020_Delhi_SoniaVihar.csv G:\\My Drive\\AirPollutionML\\Raw_Data_Files\\2019_Delhi_SoniaVihar.csv \n",
      "sub-region:  MandirMarg\n",
      "G:\\My Drive\\AirPollutionML\\Raw_Data_Files\\2023_Delhi_MandirMarg.csv G:\\My Drive\\AirPollutionML\\Raw_Data_Files\\2022_Delhi_MandirMarg.csv G:\\My Drive\\AirPollutionML\\Raw_Data_Files\\2021_Delhi_MandirMarg.csv G:\\My Drive\\AirPollutionML\\Raw_Data_Files\\2020_Delhi_MandirMarg.csv G:\\My Drive\\AirPollutionML\\Raw_Data_Files\\2019_Delhi_MandirMarg.csv \n",
      "\n",
      "region:  Sonipat\n",
      "sub-region:  Murthal\n",
      "G:\\My Drive\\AirPollutionML\\Raw_Data_Files\\2020_Sonipat_Murthal.csv G:\\My Drive\\AirPollutionML\\Raw_Data_Files\\2022_Sonipat_Murthal.csv G:\\My Drive\\AirPollutionML\\Raw_Data_Files\\2019_Sonipat_Murthal.csv G:\\My Drive\\AirPollutionML\\Raw_Data_Files\\2023_Sonipat_Murthal.csv G:\\My Drive\\AirPollutionML\\Raw_Data_Files\\2021_Sonipat_Murthal.csv \n",
      "\n",
      "region:  Rohtak\n",
      "sub-region:  MDUniversity\n",
      "G:\\My Drive\\AirPollutionML\\Raw_Data_Files\\2020_Rohtak_MDUniversity.csv G:\\My Drive\\AirPollutionML\\Raw_Data_Files\\2023_Rohtak_MDUniversity.csv G:\\My Drive\\AirPollutionML\\Raw_Data_Files\\2021_Rohtak_MDUniversity.csv G:\\My Drive\\AirPollutionML\\Raw_Data_Files\\2022_Rohtak_MDUniversity.csv G:\\My Drive\\AirPollutionML\\Raw_Data_Files\\2019_Rohtak_MDUniversity.csv \n",
      "\n",
      "region:  Jind\n",
      "sub-region:  PoliceLinesJind\n",
      "G:\\My Drive\\AirPollutionML\\Raw_Data_Files\\2019_Jind_PoliceLinesJind.csv G:\\My Drive\\AirPollutionML\\Raw_Data_Files\\2022_Jind_PoliceLinesJind.csv G:\\My Drive\\AirPollutionML\\Raw_Data_Files\\2023_Jind_PoliceLinesJind.csv G:\\My Drive\\AirPollutionML\\Raw_Data_Files\\2021_Jind_PoliceLinesJind.csv G:\\My Drive\\AirPollutionML\\Raw_Data_Files\\2020_Jind_PoliceLinesJind.csv \n",
      "\n",
      "region:  Karnal\n",
      "sub-region:  Sector12\n",
      "G:\\My Drive\\AirPollutionML\\Raw_Data_Files\\2019_Karnal_Sector12.csv G:\\My Drive\\AirPollutionML\\Raw_Data_Files\\2023_Karnal_Sector12.csv G:\\My Drive\\AirPollutionML\\Raw_Data_Files\\2020_Karnal_Sector12.csv G:\\My Drive\\AirPollutionML\\Raw_Data_Files\\2022_Karnal_Sector12.csv G:\\My Drive\\AirPollutionML\\Raw_Data_Files\\2021_Karnal_Sector12.csv \n",
      "\n",
      "region:  Meerut\n",
      "sub-region:  PallamvpuramPhase2\n",
      "G:\\My Drive\\AirPollutionML\\Raw_Data_Files\\2022_Meerut_PallamvpuramPhase2.csv G:\\My Drive\\AirPollutionML\\Raw_Data_Files\\2021_Meerut_PallamvpuramPhase2.csv G:\\My Drive\\AirPollutionML\\Raw_Data_Files\\2019_Meerut_PallamvpuramPhase2.csv G:\\My Drive\\AirPollutionML\\Raw_Data_Files\\2020_Meerut_PallamvpuramPhase2.csv G:\\My Drive\\AirPollutionML\\Raw_Data_Files\\2023_Meerut_PallamvpuramPhase2.csv \n",
      "sub-region:  GangaNagar\n",
      "G:\\My Drive\\AirPollutionML\\Raw_Data_Files\\2020_Meerut_GangaNagar.csv G:\\My Drive\\AirPollutionML\\Raw_Data_Files\\2022_Meerut_GangaNagar.csv G:\\My Drive\\AirPollutionML\\Raw_Data_Files\\2023_Meerut_GangaNagar.csv G:\\My Drive\\AirPollutionML\\Raw_Data_Files\\2019_Meerut_GangaNagar.csv G:\\My Drive\\AirPollutionML\\Raw_Data_Files\\2021_Meerut_GangaNagar.csv \n",
      "\n",
      "region:  Muzaffarnagar\n",
      "sub-region:  NewMandiMuzaffarnagar\n",
      "G:\\My Drive\\AirPollutionML\\Raw_Data_Files\\2021_Muzaffarnagar_NewMandiMuzaffarnagar.csv G:\\My Drive\\AirPollutionML\\Raw_Data_Files\\2020_Muzaffarnagar_NewMandiMuzaffarnagar.csv G:\\My Drive\\AirPollutionML\\Raw_Data_Files\\2019_Muzaffarnagar_NewMandiMuzaffarnagar.csv G:\\My Drive\\AirPollutionML\\Raw_Data_Files\\2023_Muzaffarnagar_NewMandiMuzaffarnagar.csv G:\\My Drive\\AirPollutionML\\Raw_Data_Files\\2022_Muzaffarnagar_NewMandiMuzaffarnagar.csv \n",
      "\n",
      "region:  Noida\n",
      "sub-region:  Sector-125\n",
      "G:\\My Drive\\AirPollutionML\\Raw_Data_Files\\2023_Noida_Sector-125.csv G:\\My Drive\\AirPollutionML\\Raw_Data_Files\\2022_Noida_Sector-125.csv G:\\My Drive\\AirPollutionML\\Raw_Data_Files\\2021_Noida_Sector-125.csv G:\\My Drive\\AirPollutionML\\Raw_Data_Files\\2020_Noida_Sector-125.csv G:\\My Drive\\AirPollutionML\\Raw_Data_Files\\2019_Noida_Sector-125.csv \n",
      "sub-region:  Sector-62\n",
      "G:\\My Drive\\AirPollutionML\\Raw_Data_Files\\2022_Noida_Sector-62.csv G:\\My Drive\\AirPollutionML\\Raw_Data_Files\\2023_Noida_Sector-62.csv G:\\My Drive\\AirPollutionML\\Raw_Data_Files\\2019_Noida_Sector-62.csv G:\\My Drive\\AirPollutionML\\Raw_Data_Files\\2021_Noida_Sector-62.csv G:\\My Drive\\AirPollutionML\\Raw_Data_Files\\2020_Noida_Sector-62.csv \n",
      "\n",
      "region:  Ghaziabad\n",
      "sub-region:  SanjayNagar\n",
      "G:\\My Drive\\AirPollutionML\\Raw_Data_Files\\2023_Ghaziabad_SanjayNagar.csv G:\\My Drive\\AirPollutionML\\Raw_Data_Files\\2022_Ghaziabad_SanjayNagar.csv G:\\My Drive\\AirPollutionML\\Raw_Data_Files\\2021_Ghaziabad_SanjayNagar.csv G:\\My Drive\\AirPollutionML\\Raw_Data_Files\\2020_Ghaziabad_SanjayNagar.csv G:\\My Drive\\AirPollutionML\\Raw_Data_Files\\2019_Ghaziabad_SanjayNagar.csv \n",
      "sub-region:  Indirapuram\n",
      "G:\\My Drive\\AirPollutionML\\Raw_Data_Files\\2021_Ghaziabad_Indirapuram.csv G:\\My Drive\\AirPollutionML\\Raw_Data_Files\\2022_Ghaziabad_Indirapuram.csv G:\\My Drive\\AirPollutionML\\Raw_Data_Files\\2020_Ghaziabad_Indirapuram.csv G:\\My Drive\\AirPollutionML\\Raw_Data_Files\\2023_Ghaziabad_Indirapuram.csv G:\\My Drive\\AirPollutionML\\Raw_Data_Files\\2019_Ghaziabad_Indirapuram.csv \n",
      "\n",
      "region:  Baghpat\n",
      "sub-region:  NewCollectorate\n",
      "G:\\My Drive\\AirPollutionML\\Raw_Data_Files\\2022_Baghpat_NewCollectorate.csv G:\\My Drive\\AirPollutionML\\Raw_Data_Files\\2019_Baghpat_NewCollectorate.csv G:\\My Drive\\AirPollutionML\\Raw_Data_Files\\2023_Baghpat_NewCollectorate.csv G:\\My Drive\\AirPollutionML\\Raw_Data_Files\\2020_Baghpat_NewCollectorate.csv G:\\My Drive\\AirPollutionML\\Raw_Data_Files\\2021_Baghpat_NewCollectorate.csv \n",
      "sub-region:  SardarPatelInterCollege\n",
      "G:\\My Drive\\AirPollutionML\\Raw_Data_Files\\2022_Baghpat_SardarPatelInterCollege.csv G:\\My Drive\\AirPollutionML\\Raw_Data_Files\\2019_Baghpat_SardarPatelInterCollege.csv G:\\My Drive\\AirPollutionML\\Raw_Data_Files\\2023_Baghpat_SardarPatelInterCollege.csv G:\\My Drive\\AirPollutionML\\Raw_Data_Files\\2020_Baghpat_SardarPatelInterCollege.csv G:\\My Drive\\AirPollutionML\\Raw_Data_Files\\2021_Baghpat_SardarPatelInterCollege.csv \n",
      "\n",
      "region:  Palwal\n",
      "sub-region:  ShyamNagar\n",
      "G:\\My Drive\\AirPollutionML\\Raw_Data_Files\\2022_Palwal_ShyamNagar.csv G:\\My Drive\\AirPollutionML\\Raw_Data_Files\\2021_Palwal_ShyamNagar.csv G:\\My Drive\\AirPollutionML\\Raw_Data_Files\\2019_Palwal_ShyamNagar.csv G:\\My Drive\\AirPollutionML\\Raw_Data_Files\\2020_Palwal_ShyamNagar.csv G:\\My Drive\\AirPollutionML\\Raw_Data_Files\\2023_Palwal_ShyamNagar.csv \n",
      "\n"
     ]
    }
   ],
   "source": [
    "for region in regions:\n",
    "    region_path = os.path.join(RAW_DATA_DIR_PATH, region)\n",
    "    print(\"region: \", region)\n",
    "    for station in os.listdir(region_path):\n",
    "        station_path = os.path.join(region_path, station)\n",
    "        if os.path.isdir(station_path):\n",
    "            print(\"sub-region: \", station.replace(\" \", \"\"))\n",
    "            for filename in os.listdir(station_path):\n",
    "                match = re.match(RAW_FILE_PATTERN, filename)\n",
    "                if match:\n",
    "                    year = match.group(1)\n",
    "                    new_filename = f\"{year}_{region}_{station.replace(\" \", \"\")}.csv\"\n",
    "                    dest = shutil.copy(\n",
    "                        os.path.join(station_path, filename),\n",
    "                        os.path.join(RAW_DATA_FILES_PATH, new_filename),\n",
    "                    )\n",
    "                    print(dest, end=\" \")\n",
    "                    # print(filename, end=\" \")\n",
    "            print()\n",
    "    print()"
   ]
  },
  {
   "cell_type": "code",
   "execution_count": 50,
   "metadata": {},
   "outputs": [
    {
     "name": "stdout",
     "output_type": "stream",
     "text": [
      "100\n"
     ]
    }
   ],
   "source": [
    "filecount = 0\n",
    "for region in regions:\n",
    "    region_path = os.path.join(RAW_DATA_DIR_PATH, region)\n",
    "    for station in os.listdir(region_path):\n",
    "        station_path = os.path.join(region_path, station)\n",
    "        if os.path.isdir(station_path):\n",
    "            for filename in os.listdir(station_path):\n",
    "                match = re.match(RAW_FILE_PATTERN, filename)\n",
    "                if match:\n",
    "                    year = match.group(1)\n",
    "                    filecount = filecount + 1\n",
    "print(filecount)"
   ]
  }
 ],
 "metadata": {
  "kernelspec": {
   "display_name": ".venv",
   "language": "python",
   "name": "python3"
  },
  "language_info": {
   "codemirror_mode": {
    "name": "ipython",
    "version": 3
   },
   "file_extension": ".py",
   "mimetype": "text/x-python",
   "name": "python",
   "nbconvert_exporter": "python",
   "pygments_lexer": "ipython3",
   "version": "3.12.8"
  }
 },
 "nbformat": 4,
 "nbformat_minor": 2
}
