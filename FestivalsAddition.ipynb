{
 "cells": [
  {
   "cell_type": "code",
   "execution_count": 1,
   "metadata": {},
   "outputs": [],
   "source": [
    "from indian_festivals import IndianFestivals\n",
    "import pandas as pd\n",
    "import json\n",
    "# use knn imputation and then normalize to avoid biases\n",
    "# impute all region files after aggregating to daily and sometimes use yearly files\n",
    "# create new dir for region daily files and generate yearly files using these\n",
    "# introduce AQI column\n",
    "# create triangle heatmap with threshold 0.4\n",
    "# coorelate features with AQI\n",
    "# use features with high coorelation to predict AQI\n",
    "# we have pooled data - data of same thing over different time && data of same thing in same time of different places"
   ]
  },
  {
   "cell_type": "code",
   "execution_count": 2,
   "metadata": {},
   "outputs": [],
   "source": [
    "month_name_to_number = {\n",
    "    \"January\": \"01\",\n",
    "    \"February\": \"02\",\n",
    "    \"March\": \"03\",\n",
    "    \"April\": \"04\",\n",
    "    \"May\": \"05\",\n",
    "    \"June\": \"06\",\n",
    "    \"July\": \"07\",\n",
    "    \"August\": \"08\",\n",
    "    \"September\": \"09\",\n",
    "    \"October\": \"10\",\n",
    "    \"November\": \"11\",\n",
    "    \"December\": \"12\",\n",
    "}"
   ]
  },
  {
   "cell_type": "code",
   "execution_count": 3,
   "metadata": {},
   "outputs": [],
   "source": [
    "def get_festival_in_year(year):\n",
    "    return json.loads(IndianFestivals(year).get_festivals_in_a_year())"
   ]
  },
  {
   "cell_type": "code",
   "execution_count": 4,
   "metadata": {},
   "outputs": [],
   "source": [
    "def add_festival_to_df(year: int) -> pd.DataFrame:\n",
    "    df = pd.read_csv(f\"data/{year}.csv\")\n",
    "    df[\"Timestamp\"] = pd.to_datetime(df[\"Timestamp\"])\n",
    "    df[\"Month\"] = df[\"Timestamp\"].dt.month\n",
    "    df[\"Date\"] = df[\"Timestamp\"].dt.day\n",
    "    df[\"Festival\"] = None\n",
    "    df[\"Festival_Name\"] = None\n",
    "\n",
    "    for month, dates in get_festival_in_year(year).items():\n",
    "        month_num = month_name_to_number.get(month)\n",
    "        if month_num is None:\n",
    "            continue\n",
    "        month_mask = df[\"Month\"] == int(month_num)\n",
    "        for date in dates:\n",
    "            date_mask = df[\"Date\"] == int(date[\"date\"])\n",
    "\n",
    "            condition = month_mask & date_mask\n",
    "\n",
    "            df.loc[condition, \"Festival\"] = True\n",
    "            df.loc[condition, \"Festival_Name\"] = date[\"name\"]\n",
    "    print(df[df[\"Festival\"] == True][\"Festival_Name\"].nunique())\n",
    "    return df"
   ]
  },
  {
   "cell_type": "code",
   "execution_count": 5,
   "metadata": {},
   "outputs": [
    {
     "name": "stdout",
     "output_type": "stream",
     "text": [
      "41\n"
     ]
    },
    {
     "name": "stderr",
     "output_type": "stream",
     "text": [
      "C:\\Users\\vikas\\AppData\\Local\\Temp\\ipykernel_25116\\3305119410.py:3: FutureWarning: Downcasting object dtype arrays on .fillna, .ffill, .bfill is deprecated and will change in a future version. Call result.infer_objects(copy=False) instead. To opt-in to the future behavior, set `pd.set_option('future.no_silent_downcasting', True)`\n",
      "  df[\"Festival\"] = df[\"Festival\"].fillna(False).astype(\"bool\")\n"
     ]
    },
    {
     "name": "stdout",
     "output_type": "stream",
     "text": [
      "42\n"
     ]
    },
    {
     "name": "stderr",
     "output_type": "stream",
     "text": [
      "C:\\Users\\vikas\\AppData\\Local\\Temp\\ipykernel_25116\\3305119410.py:3: FutureWarning: Downcasting object dtype arrays on .fillna, .ffill, .bfill is deprecated and will change in a future version. Call result.infer_objects(copy=False) instead. To opt-in to the future behavior, set `pd.set_option('future.no_silent_downcasting', True)`\n",
      "  df[\"Festival\"] = df[\"Festival\"].fillna(False).astype(\"bool\")\n"
     ]
    },
    {
     "name": "stdout",
     "output_type": "stream",
     "text": [
      "42\n"
     ]
    },
    {
     "name": "stderr",
     "output_type": "stream",
     "text": [
      "C:\\Users\\vikas\\AppData\\Local\\Temp\\ipykernel_25116\\3305119410.py:3: FutureWarning: Downcasting object dtype arrays on .fillna, .ffill, .bfill is deprecated and will change in a future version. Call result.infer_objects(copy=False) instead. To opt-in to the future behavior, set `pd.set_option('future.no_silent_downcasting', True)`\n",
      "  df[\"Festival\"] = df[\"Festival\"].fillna(False).astype(\"bool\")\n"
     ]
    },
    {
     "name": "stdout",
     "output_type": "stream",
     "text": [
      "42\n"
     ]
    },
    {
     "name": "stderr",
     "output_type": "stream",
     "text": [
      "C:\\Users\\vikas\\AppData\\Local\\Temp\\ipykernel_25116\\3305119410.py:3: FutureWarning: Downcasting object dtype arrays on .fillna, .ffill, .bfill is deprecated and will change in a future version. Call result.infer_objects(copy=False) instead. To opt-in to the future behavior, set `pd.set_option('future.no_silent_downcasting', True)`\n",
      "  df[\"Festival\"] = df[\"Festival\"].fillna(False).astype(\"bool\")\n"
     ]
    },
    {
     "name": "stdout",
     "output_type": "stream",
     "text": [
      "41\n"
     ]
    },
    {
     "name": "stderr",
     "output_type": "stream",
     "text": [
      "C:\\Users\\vikas\\AppData\\Local\\Temp\\ipykernel_25116\\3305119410.py:3: FutureWarning: Downcasting object dtype arrays on .fillna, .ffill, .bfill is deprecated and will change in a future version. Call result.infer_objects(copy=False) instead. To opt-in to the future behavior, set `pd.set_option('future.no_silent_downcasting', True)`\n",
      "  df[\"Festival\"] = df[\"Festival\"].fillna(False).astype(\"bool\")\n"
     ]
    }
   ],
   "source": [
    "for i in range(2019, 2024):\n",
    "    df = add_festival_to_df(i)\n",
    "    df[\"Festival\"] = df[\"Festival\"].fillna(False).astype(\"bool\")\n",
    "    df.to_csv(f\"data/{i}.csv\", index=False)"
   ]
  },
  {
   "cell_type": "code",
   "execution_count": null,
   "metadata": {},
   "outputs": [],
   "source": []
  }
 ],
 "metadata": {
  "kernelspec": {
   "display_name": ".venv",
   "language": "python",
   "name": "python3"
  },
  "language_info": {
   "codemirror_mode": {
    "name": "ipython",
    "version": 3
   },
   "file_extension": ".py",
   "mimetype": "text/x-python",
   "name": "python",
   "nbconvert_exporter": "python",
   "pygments_lexer": "ipython3",
   "version": "3.12.8"
  }
 },
 "nbformat": 4,
 "nbformat_minor": 2
}
